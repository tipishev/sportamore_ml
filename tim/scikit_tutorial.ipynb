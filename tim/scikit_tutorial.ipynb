{
 "cells": [
  {
   "cell_type": "markdown",
   "metadata": {},
   "source": [
    "## Reading Through http://gael-varoquaux.info/scikit-learn-tutorial/"
   ]
  },
  {
   "cell_type": "code",
   "execution_count": 1,
   "metadata": {
    "collapsed": false
   },
   "outputs": [],
   "source": [
    "from sklearn import datasets\n",
    "import pandas as pd\n",
    "import numpy as np\n",
    "import pylab as pl\n",
    "import matplotlib.pyplot as plt\n",
    "\n",
    "# draw pictures right here\n",
    "%matplotlib inline"
   ]
  },
  {
   "cell_type": "markdown",
   "metadata": {},
   "source": [
    "## Section 1"
   ]
  },
  {
   "cell_type": "code",
   "execution_count": 2,
   "metadata": {
    "collapsed": false
   },
   "outputs": [
    {
     "data": {
      "text/plain": [
       "(150, 4)"
      ]
     },
     "execution_count": 2,
     "metadata": {},
     "output_type": "execute_result"
    }
   ],
   "source": [
    "iris = datasets.load_iris()\n",
    "data = iris.data\n",
    "data.shape"
   ]
  },
  {
   "cell_type": "code",
   "execution_count": 69,
   "metadata": {
    "collapsed": false,
    "scrolled": true
   },
   "outputs": [
    {
     "name": "stdout",
     "output_type": "stream",
     "text": [
      "Iris Plants Database\n",
      "====================\n",
      "\n",
      "Notes\n",
      "-----\n",
      "Data Set Characteristics:\n",
      "    :Number of Instances: 150 (50 in each of three classes)\n",
      "    :Number of Attributes: 4 numeric, predictive attributes and the class\n",
      "    :Attribute Information:\n",
      "        - sepal length in cm\n",
      "        - sepal width in cm\n",
      "        - petal length in cm\n",
      "        - petal width in cm\n",
      "        - class:\n",
      "                - Iris-Setosa\n",
      "                - Iris-Versicolour\n",
      "                - Iris-Virginica\n",
      "    :Summary Statistics:\n",
      "\n",
      "    ============== ==== ==== ======= ===== ====================\n",
      "                    Min  Max   Mean    SD   Class Correlation\n",
      "    ============== ==== ==== ======= ===== ====================\n",
      "    sepal length:   4.3  7.9   5.84   0.83    0.7826\n",
      "    sepal width:    2.0  4.4   3.05   0.43   -0.4194\n",
      "    petal length:   1.0  6.9   3.76   1.76    0.9490  (high!)\n",
      "    petal width:    0.1  2.5   1.20  0.76     0.9565  (high!)\n",
      "    ============== ==== ==== ======= ===== ====================\n",
      "\n",
      "    :Missing Attribute Values: None\n",
      "    :Class Distribution: 33.3% for each of 3 classes.\n",
      "    :Creator: R.A. Fisher\n",
      "    :Donor: Michael Marshall (MARSHALL%PLU@io.arc.nasa.gov)\n",
      "    :Date: July, 1988\n",
      "\n",
      "This is a copy of UCI ML iris datasets.\n",
      "http://archive.ics.uci.edu/ml/datasets/Iris\n",
      "\n",
      "The famous Iris database, first used by Sir R.A Fisher\n",
      "\n",
      "This is perhaps the best known database to be found in the\n",
      "pattern recognition literature.  Fisher's paper is a classic in the field and\n",
      "is referenced frequently to this day.  (See Duda & Hart, for example.)  The\n",
      "data set contains 3 classes of 50 instances each, where each class refers to a\n",
      "type of iris plant.  One class is linearly separable from the other 2; the\n",
      "latter are NOT linearly separable from each other.\n",
      "\n",
      "References\n",
      "----------\n",
      "   - Fisher,R.A. \"The use of multiple measurements in taxonomic problems\"\n",
      "     Annual Eugenics, 7, Part II, 179-188 (1936); also in \"Contributions to\n",
      "     Mathematical Statistics\" (John Wiley, NY, 1950).\n",
      "   - Duda,R.O., & Hart,P.E. (1973) Pattern Classification and Scene Analysis.\n",
      "     (Q327.D83) John Wiley & Sons.  ISBN 0-471-22361-1.  See page 218.\n",
      "   - Dasarathy, B.V. (1980) \"Nosing Around the Neighborhood: A New System\n",
      "     Structure and Classification Rule for Recognition in Partially Exposed\n",
      "     Environments\".  IEEE Transactions on Pattern Analysis and Machine\n",
      "     Intelligence, Vol. PAMI-2, No. 1, 67-71.\n",
      "   - Gates, G.W. (1972) \"The Reduced Nearest Neighbor Rule\".  IEEE Transactions\n",
      "     on Information Theory, May 1972, 431-433.\n",
      "   - See also: 1988 MLC Proceedings, 54-64.  Cheeseman et al\"s AUTOCLASS II\n",
      "     conceptual clustering system finds 3 classes in the data.\n",
      "   - Many, many more ...\n",
      "\n"
     ]
    }
   ],
   "source": [
    "print(iris.DESCR)"
   ]
  },
  {
   "cell_type": "markdown",
   "metadata": {},
   "source": [
    "Very exciting. Now let's look at the **digits** dataset, that we've seen in the book"
   ]
  },
  {
   "cell_type": "code",
   "execution_count": 4,
   "metadata": {
    "collapsed": true
   },
   "outputs": [],
   "source": [
    "digits = datasets.load_digits()"
   ]
  },
  {
   "cell_type": "code",
   "execution_count": 5,
   "metadata": {
    "collapsed": false
   },
   "outputs": [
    {
     "data": {
      "text/plain": [
       "(1797, 8, 8)"
      ]
     },
     "execution_count": 5,
     "metadata": {},
     "output_type": "execute_result"
    }
   ],
   "source": [
    "digits.images.shape"
   ]
  },
  {
   "cell_type": "code",
   "execution_count": 6,
   "metadata": {
    "collapsed": false
   },
   "outputs": [
    {
     "name": "stdout",
     "output_type": "stream",
     "text": [
      "Optical Recognition of Handwritten Digits Data Set\n",
      "===================================================\n",
      "\n",
      "Notes\n",
      "-----\n",
      "Data Set Characteristics:\n",
      "    :Number of Instances: 5620\n",
      "    :Number of Attributes: 64\n",
      "    :Attribute Information: 8x8 image of integer pixels in the range 0..16.\n",
      "    :Missing Attribute Values: None\n",
      "    :Creator: E. Alpaydin (alpaydin '@' boun.edu.tr)\n",
      "    :Date: July; 1998\n",
      "\n",
      "This is a copy of the test set of the UCI ML hand-written digits datasets\n",
      "http://archive.ics.uci.edu/ml/datasets/Optical+Recognition+of+Handwritten+Digits\n",
      "\n",
      "The data set contains images of hand-written digits: 10 classes where\n",
      "each class refers to a digit.\n",
      "\n",
      "Preprocessing programs made available by NIST were used to extract\n",
      "normalized bitmaps of handwritten digits from a preprinted form. From a\n",
      "total of 43 people, 30 contributed to the training set and different 13\n",
      "to the test set. 32x32 bitmaps are divided into nonoverlapping blocks of\n",
      "4x4 and the number of on pixels are counted in each block. This generates\n",
      "an input matrix of 8x8 where each element is an integer in the range\n",
      "0..16. This reduces dimensionality and gives invariance to small\n",
      "distortions.\n",
      "\n",
      "For info on NIST preprocessing routines, see M. D. Garris, J. L. Blue, G.\n",
      "T. Candela, D. L. Dimmick, J. Geist, P. J. Grother, S. A. Janet, and C.\n",
      "L. Wilson, NIST Form-Based Handprint Recognition System, NISTIR 5469,\n",
      "1994.\n",
      "\n",
      "References\n",
      "----------\n",
      "  - C. Kaynak (1995) Methods of Combining Multiple Classifiers and Their\n",
      "    Applications to Handwritten Digit Recognition, MSc Thesis, Institute of\n",
      "    Graduate Studies in Science and Engineering, Bogazici University.\n",
      "  - E. Alpaydin, C. Kaynak (1998) Cascading Classifiers, Kybernetika.\n",
      "  - Ken Tang and Ponnuthurai N. Suganthan and Xi Yao and A. Kai Qin.\n",
      "    Linear dimensionalityreduction using relevance weighted LDA. School of\n",
      "    Electrical and Electronic Engineering Nanyang Technological University.\n",
      "    2005.\n",
      "  - Claudio Gentile. A New Approximate Maximal Margin Classification\n",
      "    Algorithm. NIPS. 2000.\n",
      "\n"
     ]
    }
   ],
   "source": [
    "print(digits.DESCR)"
   ]
  },
  {
   "cell_type": "code",
   "execution_count": 7,
   "metadata": {
    "collapsed": false
   },
   "outputs": [
    {
     "data": {
      "text/plain": [
       "[<matplotlib.image.AxesImage at 0x7efbf39e7390>,\n",
       " <matplotlib.image.AxesImage at 0x7efbf8eaf5c0>,\n",
       " <matplotlib.image.AxesImage at 0x7efbf39e7be0>]"
      ]
     },
     "execution_count": 7,
     "metadata": {},
     "output_type": "execute_result"
    },
    {
     "data": {
      "image/png": "[encoded data removed]",
      "text/plain": [
       "<matplotlib.figure.Figure at 0x7efbf39b5e10>"
      ]
     },
     "metadata": {},
     "output_type": "display_data"
    }
   ],
   "source": [
    "plot = lambda image: pl.imshow(image, cmap=pl.cm.gist_gray_r)\n",
    "[plot(image) for image in digits.images[:3]]"
   ]
  },
  {
   "cell_type": "markdown",
   "metadata": {},
   "source": [
    "hm, only the last image is plotted by default"
   ]
  },
  {
   "cell_type": "code",
   "execution_count": 8,
   "metadata": {
    "collapsed": false
   },
   "outputs": [
    {
     "name": "stdout",
     "output_type": "stream",
     "text": [
      "[[  0.   0.   5.  13.   9.   1.   0.   0.   0.   0.  13.  15.  10.  15.\n",
      "    5.   0.   0.   3.  15.   2.   0.  11.   8.   0.   0.   4.  12.   0.\n",
      "    0.   8.   8.   0.   0.   5.   8.   0.   0.   9.   8.   0.   0.   4.\n",
      "   11.   0.   1.  12.   7.   0.   0.   2.  14.   5.  10.  12.   0.   0.\n",
      "    0.   0.   6.  13.  10.   0.   0.   0.]\n",
      " [  0.   0.   0.  12.  13.   5.   0.   0.   0.   0.   0.  11.  16.   9.\n",
      "    0.   0.   0.   0.   3.  15.  16.   6.   0.   0.   0.   7.  15.  16.\n",
      "   16.   2.   0.   0.   0.   0.   1.  16.  16.   3.   0.   0.   0.   0.\n",
      "    1.  16.  16.   6.   0.   0.   0.   0.   1.  16.  16.   6.   0.   0.\n",
      "    0.   0.   0.  11.  16.  10.   0.   0.]]\n"
     ]
    }
   ],
   "source": [
    "data = digits.images.reshape((digits.images.shape[0], -1))\n",
    "print(data[:2])"
   ]
  },
  {
   "cell_type": "markdown",
   "metadata": {
    "collapsed": true
   },
   "source": [
    "Apparently, trailing underscore **is** a convention:\n",
    "> Estimated parameters: When data is fitted with an estimator, parameters are estimated from the data at hand. All the estimated parameters are attributes of the estimator object ending by an underscore:\n",
    "\n",
    "```python\n",
    ">>> estimator.estimated_param_ \n",
    "```"
   ]
  },
  {
   "cell_type": "markdown",
   "metadata": {
    "collapsed": true
   },
   "source": [
    "## Section 2"
   ]
  },
  {
   "cell_type": "markdown",
   "metadata": {
    "collapsed": true
   },
   "source": [
    "A neat method **np.unique**:"
   ]
  },
  {
   "cell_type": "code",
   "execution_count": 9,
   "metadata": {
    "collapsed": false
   },
   "outputs": [
    {
     "name": "stdout",
     "output_type": "stream",
     "text": [
      "150 labels have only 3 unique values: [0 1 2]\n"
     ]
    }
   ],
   "source": [
    "iris = datasets.load_iris()\n",
    "iris_X = iris.data\n",
    "iris_y = iris.target\n",
    "unique_y = np.unique(iris_y)\n",
    "print('%d labels have only %d unique values: %s' % (len(iris_y), len(unique_y), unique_y))"
   ]
  },
  {
   "cell_type": "markdown",
   "metadata": {
    "collapsed": true
   },
   "source": [
    "![alt text](http://s2.quickmeme.com/img/51/5104093ba6225caffcd066fa25d7d120a6923dc624061bbf9900c78b3e0815d3.jpg)"
   ]
  },
  {
   "cell_type": "code",
   "execution_count": 10,
   "metadata": {
    "collapsed": true
   },
   "outputs": [],
   "source": [
    "diabetes = datasets.load_diabetes()"
   ]
  },
  {
   "cell_type": "code",
   "execution_count": 11,
   "metadata": {
    "collapsed": false
   },
   "outputs": [
    {
     "data": {
      "text/plain": [
       "{'data': array([[ 0.03807591,  0.05068012,  0.06169621, ..., -0.00259226,\n",
       "          0.01990842, -0.01764613],\n",
       "        [-0.00188202, -0.04464164, -0.05147406, ..., -0.03949338,\n",
       "         -0.06832974, -0.09220405],\n",
       "        [ 0.08529891,  0.05068012,  0.04445121, ..., -0.00259226,\n",
       "          0.00286377, -0.02593034],\n",
       "        ..., \n",
       "        [ 0.04170844,  0.05068012, -0.01590626, ..., -0.01107952,\n",
       "         -0.04687948,  0.01549073],\n",
       "        [-0.04547248, -0.04464164,  0.03906215, ...,  0.02655962,\n",
       "          0.04452837, -0.02593034],\n",
       "        [-0.04547248, -0.04464164, -0.0730303 , ..., -0.03949338,\n",
       "         -0.00421986,  0.00306441]]),\n",
       " 'target': array([ 151.,   75.,  141.,  206.,  135.,   97.,  138.,   63.,  110.,\n",
       "         310.,  101.,   69.,  179.,  185.,  118.,  171.,  166.,  144.,\n",
       "          97.,  168.,   68.,   49.,   68.,  245.,  184.,  202.,  137.,\n",
       "          85.,  131.,  283.,  129.,   59.,  341.,   87.,   65.,  102.,\n",
       "         265.,  276.,  252.,   90.,  100.,   55.,   61.,   92.,  259.,\n",
       "          53.,  190.,  142.,   75.,  142.,  155.,  225.,   59.,  104.,\n",
       "         182.,  128.,   52.,   37.,  170.,  170.,   61.,  144.,   52.,\n",
       "         128.,   71.,  163.,  150.,   97.,  160.,  178.,   48.,  270.,\n",
       "         202.,  111.,   85.,   42.,  170.,  200.,  252.,  113.,  143.,\n",
       "          51.,   52.,  210.,   65.,  141.,   55.,  134.,   42.,  111.,\n",
       "          98.,  164.,   48.,   96.,   90.,  162.,  150.,  279.,   92.,\n",
       "          83.,  128.,  102.,  302.,  198.,   95.,   53.,  134.,  144.,\n",
       "         232.,   81.,  104.,   59.,  246.,  297.,  258.,  229.,  275.,\n",
       "         281.,  179.,  200.,  200.,  173.,  180.,   84.,  121.,  161.,\n",
       "          99.,  109.,  115.,  268.,  274.,  158.,  107.,   83.,  103.,\n",
       "         272.,   85.,  280.,  336.,  281.,  118.,  317.,  235.,   60.,\n",
       "         174.,  259.,  178.,  128.,   96.,  126.,  288.,   88.,  292.,\n",
       "          71.,  197.,  186.,   25.,   84.,   96.,  195.,   53.,  217.,\n",
       "         172.,  131.,  214.,   59.,   70.,  220.,  268.,  152.,   47.,\n",
       "          74.,  295.,  101.,  151.,  127.,  237.,  225.,   81.,  151.,\n",
       "         107.,   64.,  138.,  185.,  265.,  101.,  137.,  143.,  141.,\n",
       "          79.,  292.,  178.,   91.,  116.,   86.,  122.,   72.,  129.,\n",
       "         142.,   90.,  158.,   39.,  196.,  222.,  277.,   99.,  196.,\n",
       "         202.,  155.,   77.,  191.,   70.,   73.,   49.,   65.,  263.,\n",
       "         248.,  296.,  214.,  185.,   78.,   93.,  252.,  150.,   77.,\n",
       "         208.,   77.,  108.,  160.,   53.,  220.,  154.,  259.,   90.,\n",
       "         246.,  124.,   67.,   72.,  257.,  262.,  275.,  177.,   71.,\n",
       "          47.,  187.,  125.,   78.,   51.,  258.,  215.,  303.,  243.,\n",
       "          91.,  150.,  310.,  153.,  346.,   63.,   89.,   50.,   39.,\n",
       "         103.,  308.,  116.,  145.,   74.,   45.,  115.,  264.,   87.,\n",
       "         202.,  127.,  182.,  241.,   66.,   94.,  283.,   64.,  102.,\n",
       "         200.,  265.,   94.,  230.,  181.,  156.,  233.,   60.,  219.,\n",
       "          80.,   68.,  332.,  248.,   84.,  200.,   55.,   85.,   89.,\n",
       "          31.,  129.,   83.,  275.,   65.,  198.,  236.,  253.,  124.,\n",
       "          44.,  172.,  114.,  142.,  109.,  180.,  144.,  163.,  147.,\n",
       "          97.,  220.,  190.,  109.,  191.,  122.,  230.,  242.,  248.,\n",
       "         249.,  192.,  131.,  237.,   78.,  135.,  244.,  199.,  270.,\n",
       "         164.,   72.,   96.,  306.,   91.,  214.,   95.,  216.,  263.,\n",
       "         178.,  113.,  200.,  139.,  139.,   88.,  148.,   88.,  243.,\n",
       "          71.,   77.,  109.,  272.,   60.,   54.,  221.,   90.,  311.,\n",
       "         281.,  182.,  321.,   58.,  262.,  206.,  233.,  242.,  123.,\n",
       "         167.,   63.,  197.,   71.,  168.,  140.,  217.,  121.,  235.,\n",
       "         245.,   40.,   52.,  104.,  132.,   88.,   69.,  219.,   72.,\n",
       "         201.,  110.,   51.,  277.,   63.,  118.,   69.,  273.,  258.,\n",
       "          43.,  198.,  242.,  232.,  175.,   93.,  168.,  275.,  293.,\n",
       "         281.,   72.,  140.,  189.,  181.,  209.,  136.,  261.,  113.,\n",
       "         131.,  174.,  257.,   55.,   84.,   42.,  146.,  212.,  233.,\n",
       "          91.,  111.,  152.,  120.,   67.,  310.,   94.,  183.,   66.,\n",
       "         173.,   72.,   49.,   64.,   48.,  178.,  104.,  132.,  220.,   57.])}"
      ]
     },
     "execution_count": 11,
     "metadata": {},
     "output_type": "execute_result"
    }
   ],
   "source": [
    "diabetes"
   ]
  },
  {
   "cell_type": "code",
   "execution_count": 12,
   "metadata": {
    "collapsed": true
   },
   "outputs": [],
   "source": [
    "diabetes_X_train = diabetes.data[:-20]\n",
    "diabetes_X_test  = diabetes.data[-20:]\n",
    "\n",
    "diabetes_y_train = diabetes.target[:-20]\n",
    "diabetes_y_test  = diabetes.target[-20:]"
   ]
  },
  {
   "cell_type": "code",
   "execution_count": 13,
   "metadata": {
    "collapsed": false
   },
   "outputs": [
    {
     "data": {
      "text/plain": [
       "LinearRegression(copy_X=True, fit_intercept=True, n_jobs=1, normalize=False)"
      ]
     },
     "execution_count": 13,
     "metadata": {},
     "output_type": "execute_result"
    }
   ],
   "source": [
    ">>> from sklearn import linear_model\n",
    ">>> regr = linear_model.LinearRegression()\n",
    ">>> regr.fit(diabetes_X_train, diabetes_y_train)"
   ]
  },
  {
   "cell_type": "code",
   "execution_count": 14,
   "metadata": {
    "collapsed": false
   },
   "outputs": [
    {
     "name": "stdout",
     "output_type": "stream",
     "text": [
      "[  3.03499549e-01  -2.37639315e+02   5.10530605e+02   3.27736980e+02\n",
      "  -8.14131709e+02   4.92814588e+02   1.02848452e+02   1.84606489e+02\n",
      "   7.43519617e+02   7.60951722e+01]\n"
     ]
    }
   ],
   "source": [
    ">>> print(regr.coef_)"
   ]
  },
  {
   "cell_type": "code",
   "execution_count": 15,
   "metadata": {
    "collapsed": false
   },
   "outputs": [
    {
     "data": {
      "text/plain": [
       "2004.5676026898207"
      ]
     },
     "execution_count": 15,
     "metadata": {},
     "output_type": "execute_result"
    }
   ],
   "source": [
    ">>> # The mean square error\n",
    ">>> np.mean((regr.predict(diabetes_X_test) - diabetes_y_test)**2)"
   ]
  },
  {
   "cell_type": "code",
   "execution_count": 16,
   "metadata": {
    "collapsed": false
   },
   "outputs": [
    {
     "data": {
      "text/plain": [
       "0.58507530226905746"
      ]
     },
     "execution_count": 16,
     "metadata": {},
     "output_type": "execute_result"
    }
   ],
   "source": [
    ">>> # Explained variance score: 1 is perfect prediction\n",
    ">>> regr.score(diabetes_X_test, diabetes_y_test)"
   ]
  },
  {
   "cell_type": "code",
   "execution_count": 17,
   "metadata": {
    "collapsed": false
   },
   "outputs": [
    {
     "data": {
      "image/png": "[encoded data removed]",
      "text/plain": [
       "<matplotlib.figure.Figure at 0x7efbf396d748>"
      ]
     },
     "metadata": {},
     "output_type": "display_data"
    }
   ],
   "source": [
    ">>> X = np.c_[ .5, 1].T\n",
    ">>> y = [.5, 1]\n",
    ">>> test = np.c_[ 0, 2].T\n",
    ">>> regr = linear_model.LinearRegression()\n",
    "\n",
    ">>> import pylab as pl\n",
    ">>> pl.figure() \n",
    "\n",
    ">>> np.random.seed(0)\n",
    ">>> for _ in range(6): \n",
    "...    this_X = .1*np.random.normal(size=(2, 1)) + X\n",
    "...    regr.fit(X, y)\n",
    "...    pl.plot(test, regr.predict(test))\n",
    "...    pl.scatter(this_X, y, s=3)"
   ]
  },
  {
   "cell_type": "code",
   "execution_count": 18,
   "metadata": {
    "collapsed": false
   },
   "outputs": [
    {
     "data": {
      "image/png": "[encoded data removed]",
      "text/plain": [
       "<matplotlib.figure.Figure at 0x7efbee4dac18>"
      ]
     },
     "metadata": {},
     "output_type": "display_data"
    }
   ],
   "source": [
    ">>> regr = linear_model.Ridge(alpha=.1)\n",
    "\n",
    ">>> pl.figure() \n",
    "\n",
    ">>> np.random.seed(0)\n",
    ">>> for _ in range(6): \n",
    "...    this_X = .1*np.random.normal(size=(2, 1)) + X\n",
    "...    regr.fit(this_X, y)\n",
    "...    pl.plot(test, regr.predict(test))\n",
    "...    pl.scatter(this_X, y, s=3)"
   ]
  },
  {
   "cell_type": "code",
   "execution_count": 19,
   "metadata": {
    "collapsed": false
   },
   "outputs": [
    {
     "name": "stdout",
     "output_type": "stream",
     "text": [
      "Automatically created module for IPython interactive environment\n"
     ]
    },
    {
     "data": {
      "image/png": "[encoded data removed]",
      "text/plain": [
       "<matplotlib.figure.Figure at 0x7efbee480cf8>"
      ]
     },
     "metadata": {},
     "output_type": "display_data"
    },
    {
     "data": {
      "image/png": "[encoded data removed]",
      "text/plain": [
       "<matplotlib.figure.Figure at 0x7efbee3e14a8>"
      ]
     },
     "metadata": {},
     "output_type": "display_data"
    }
   ],
   "source": [
    "print(__doc__)\n",
    "\n",
    "\n",
    "# Code source: Gaël Varoquaux\n",
    "# Modified for documentation by Jaques Grobler\n",
    "# License: BSD 3 clause\n",
    "\n",
    "\n",
    "import numpy as np\n",
    "import matplotlib.pyplot as plt\n",
    "\n",
    "from sklearn import linear_model\n",
    "\n",
    "X_train = np.c_[.5, 1].T\n",
    "y_train = [.5, 1]\n",
    "X_test = np.c_[0, 2].T\n",
    "\n",
    "np.random.seed(0)\n",
    "\n",
    "classifiers = dict(ols=linear_model.LinearRegression(),\n",
    "                   ridge=linear_model.Ridge(alpha=.1))\n",
    "\n",
    "fignum = 1\n",
    "for name, clf in classifiers.items():\n",
    "    fig = plt.figure(fignum, figsize=(4, 3))\n",
    "    plt.clf()\n",
    "    plt.title(name)\n",
    "    ax = plt.axes([.12, .12, .8, .8])\n",
    "\n",
    "    for _ in range(6):\n",
    "        this_X = .1 * np.random.normal(size=(2, 1)) + X_train\n",
    "        clf.fit(this_X, y_train)\n",
    "\n",
    "        ax.plot(X_test, clf.predict(X_test), color='.5')\n",
    "        ax.scatter(this_X, y_train, s=3, c='.5', marker='o', zorder=10)\n",
    "\n",
    "    clf.fit(X_train, y_train)\n",
    "    ax.plot(X_test, clf.predict(X_test), linewidth=2, color='blue')\n",
    "    ax.scatter(X_train, y_train, s=30, c='r', marker='+', zorder=10)\n",
    "\n",
    "    ax.set_xticks(())\n",
    "    ax.set_yticks(())\n",
    "    ax.set_ylim((0, 1.6))\n",
    "    ax.set_xlabel('X')\n",
    "    ax.set_ylabel('y')\n",
    "    ax.set_xlim(0, 2)\n",
    "    fignum += 1\n",
    "\n",
    "plt.show()"
   ]
  },
  {
   "cell_type": "code",
   "execution_count": 20,
   "metadata": {
    "collapsed": false
   },
   "outputs": [
    {
     "data": {
      "text/plain": [
       "array([  2.        ,   2.72158   ,   3.70349885,   5.0396842 ,\n",
       "         6.85795186,   9.33223232,  12.69920842,  17.28095582,\n",
       "        23.51575188,  32.        ])"
      ]
     },
     "execution_count": 20,
     "metadata": {},
     "output_type": "execute_result"
    }
   ],
   "source": [
    "np.logspace(1, 5, 10, base=2)"
   ]
  },
  {
   "cell_type": "markdown",
   "metadata": {
    "collapsed": true
   },
   "source": [
    "### 2.2.4.1. Excercice: classification of digits"
   ]
  },
  {
   "cell_type": "code",
   "execution_count": 25,
   "metadata": {
    "collapsed": true
   },
   "outputs": [],
   "source": [
    "from sklearn import datasets, neighbors, linear_model\n",
    "\n",
    "digits = datasets.load_digits()\n",
    "X_digits = digits.data\n",
    "y_digits = digits.target"
   ]
  },
  {
   "cell_type": "code",
   "execution_count": 64,
   "metadata": {
    "collapsed": false
   },
   "outputs": [
    {
     "data": {
      "text/plain": [
       "1617"
      ]
     },
     "execution_count": 64,
     "metadata": {},
     "output_type": "execute_result"
    }
   ],
   "source": [
    "train_X = X_digits[:-180]\n",
    "train_y = y_digits[:-180]\n",
    "\n",
    "len(train_y)"
   ]
  },
  {
   "cell_type": "code",
   "execution_count": 60,
   "metadata": {
    "collapsed": false
   },
   "outputs": [
    {
     "data": {
      "text/plain": [
       "180"
      ]
     },
     "execution_count": 60,
     "metadata": {},
     "output_type": "execute_result"
    }
   ],
   "source": [
    "test_X = X_digits[-180:]\n",
    "test_y = y_digits[-180:]\n",
    "\n",
    "len(test_y)"
   ]
  },
  {
   "cell_type": "markdown",
   "metadata": {},
   "source": [
    "let's try neighbours first"
   ]
  },
  {
   "cell_type": "code",
   "execution_count": 62,
   "metadata": {
    "collapsed": false
   },
   "outputs": [],
   "source": [
    "knn = neighbors.KNeighborsClassifier()"
   ]
  },
  {
   "cell_type": "code",
   "execution_count": 65,
   "metadata": {
    "collapsed": false
   },
   "outputs": [
    {
     "data": {
      "text/plain": [
       "KNeighborsClassifier(algorithm='auto', leaf_size=30, metric='minkowski',\n",
       "           metric_params=None, n_jobs=1, n_neighbors=5, p=2,\n",
       "           weights='uniform')"
      ]
     },
     "execution_count": 65,
     "metadata": {},
     "output_type": "execute_result"
    }
   ],
   "source": [
    "knn.fit(train_X, train_y)"
   ]
  },
  {
   "cell_type": "code",
   "execution_count": 66,
   "metadata": {
    "collapsed": false
   },
   "outputs": [
    {
     "name": "stdout",
     "output_type": "stream",
     "text": [
      "Help on method score in module sklearn.base:\n",
      "\n",
      "score(X, y, sample_weight=None) method of sklearn.neighbors.classification.KNeighborsClassifier instance\n",
      "    Returns the mean accuracy on the given test data and labels.\n",
      "    \n",
      "    In multi-label classification, this is the subset accuracy\n",
      "    which is a harsh metric since you require for each sample that\n",
      "    each label set be correctly predicted.\n",
      "    \n",
      "    Parameters\n",
      "    ----------\n",
      "    X : array-like, shape = (n_samples, n_features)\n",
      "        Test samples.\n",
      "    \n",
      "    y : array-like, shape = (n_samples) or (n_samples, n_outputs)\n",
      "        True labels for X.\n",
      "    \n",
      "    sample_weight : array-like, shape = [n_samples], optional\n",
      "        Sample weights.\n",
      "    \n",
      "    Returns\n",
      "    -------\n",
      "    score : float\n",
      "        Mean accuracy of self.predict(X) wrt. y.\n",
      "\n"
     ]
    }
   ],
   "source": [
    "help(knn.score)"
   ]
  },
  {
   "cell_type": "code",
   "execution_count": 68,
   "metadata": {
    "collapsed": false
   },
   "outputs": [
    {
     "data": {
      "text/plain": [
       "0.96111111111111114"
      ]
     },
     "execution_count": 68,
     "metadata": {},
     "output_type": "execute_result"
    }
   ],
   "source": [
    "knn.score(test_X, test_y)"
   ]
  },
  {
   "cell_type": "code",
   "execution_count": null,
   "metadata": {
    "collapsed": true
   },
   "outputs": [],
   "source": []
  },
  {
   "cell_type": "code",
   "execution_count": null,
   "metadata": {
    "collapsed": true
   },
   "outputs": [],
   "source": []
  },
  {
   "cell_type": "code",
   "execution_count": null,
   "metadata": {
    "collapsed": true
   },
   "outputs": [],
   "source": []
  },
  {
   "cell_type": "code",
   "execution_count": null,
   "metadata": {
    "collapsed": true
   },
   "outputs": [],
   "source": []
  }
 ],
 "metadata": {
  "kernelspec": {
   "display_name": "Python 3",
   "language": "python",
   "name": "python3"
  },
  "language_info": {
   "codemirror_mode": {
    "name": "ipython",
    "version": 3
   },
   "file_extension": ".py",
   "mimetype": "text/x-python",
   "name": "python",
   "nbconvert_exporter": "python",
   "pygments_lexer": "ipython3",
   "version": "3.5.2"
  }
 },
 "nbformat": 4,
 "nbformat_minor": 2
}
