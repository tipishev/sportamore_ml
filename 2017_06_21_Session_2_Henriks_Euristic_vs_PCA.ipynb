{
 "cells": [
  {
   "cell_type": "code",
   "execution_count": 8,
   "metadata": {
    "collapsed": true
   },
   "outputs": [],
   "source": [
    "from sklearn import datasets\n",
    "import pandas as pd\n",
    "import numpy as np\n",
    "import pylab as pl\n",
    "import matplotlib.pyplot as plt\n",
    "\n",
    "# draw pictures right here\n",
    "%matplotlib inline"
   ]
  },
  {
   "cell_type": "markdown",
   "metadata": {},
   "source": [
    "Let's PCA the iris dataset"
   ]
  },
  {
   "cell_type": "code",
   "execution_count": 9,
   "metadata": {
    "collapsed": false
   },
   "outputs": [
    {
     "data": {
      "text/plain": [
       "(150, 4)"
      ]
     },
     "execution_count": 9,
     "metadata": {},
     "output_type": "execute_result"
    }
   ],
   "source": [
    "iris = datasets.load_iris()\n",
    "data = iris.data\n",
    "data.shape"
   ]
  },
  {
   "cell_type": "code",
   "execution_count": 17,
   "metadata": {
    "collapsed": false
   },
   "outputs": [
    {
     "data": {
      "text/plain": [
       "['sepal length (cm)',\n",
       " 'sepal width (cm)',\n",
       " 'petal length (cm)',\n",
       " 'petal width (cm)']"
      ]
     },
     "execution_count": 17,
     "metadata": {},
     "output_type": "execute_result"
    }
   ],
   "source": [
    "# import some data to play with\n",
    "iris = datasets.load_iris()\n",
    "X = iris.data\n",
    "Y = iris.target\n",
    "\n",
    "iris.feature_names"
   ]
  },
  {
   "cell_type": "code",
   "execution_count": 21,
   "metadata": {
    "collapsed": false
   },
   "outputs": [
    {
     "data": {
      "text/plain": [
       "[[3.6428571428571428, 17.5],\n",
       " [3.5000000000000004, 15.0],\n",
       " [3.6153846153846154, 16.0],\n",
       " [3.0666666666666664, 15.5],\n",
       " [3.5714285714285716, 18.0],\n",
       " [3.1764705882352944, 9.75],\n",
       " [3.2857142857142856, 11.333333333333334],\n",
       " [3.3333333333333335, 17.0],\n",
       " [3.1428571428571432, 14.499999999999998],\n",
       " [3.2666666666666671, 31.0],\n",
       " [3.6000000000000001, 18.5],\n",
       " [2.9999999999999996, 17.0],\n",
       " [3.4285714285714288, 30.0],\n",
       " [3.9090909090909087, 30.0],\n",
       " [4.833333333333333, 20.0],\n",
       " [3.8000000000000003, 11.0],\n",
       " [4.1538461538461542, 9.75],\n",
       " [3.6428571428571428, 11.666666666666668],\n",
       " [3.3529411764705883, 12.666666666666666],\n",
       " [3.3999999999999999, 12.666666666666666],\n",
       " [3.1764705882352944, 17.0],\n",
       " [3.3999999999999999, 9.25],\n",
       " [4.5999999999999996, 18.0],\n",
       " [3.0, 6.5999999999999996],\n",
       " [2.5263157894736841, 17.0],\n",
       " [3.125, 15.0],\n",
       " [3.125, 8.5],\n",
       " [3.4666666666666668, 17.5],\n",
       " [3.7142857142857149, 17.0],\n",
       " [2.9375, 16.0],\n",
       " [2.9999999999999996, 15.5],\n",
       " [3.6000000000000001, 8.5],\n",
       " [3.4666666666666668, 40.999999999999993],\n",
       " [3.9285714285714288, 21.0],\n",
       " [3.2666666666666671, 31.0],\n",
       " [4.166666666666667, 16.0],\n",
       " [4.2307692307692308, 17.5],\n",
       " [3.2666666666666671, 31.0],\n",
       " [3.3846153846153846, 15.0],\n",
       " [3.3999999999999999, 17.0],\n",
       " [3.8461538461538458, 11.666666666666668],\n",
       " [3.4615384615384612, 7.6666666666666661],\n",
       " [3.3846153846153846, 16.0],\n",
       " [3.125, 5.8333333333333339],\n",
       " [2.6842105263157894, 9.4999999999999982],\n",
       " [3.4285714285714288, 10.0],\n",
       " [3.1874999999999996, 18.999999999999996],\n",
       " [3.2857142857142856, 16.0],\n",
       " [3.5333333333333332, 18.5],\n",
       " [3.5714285714285716, 16.499999999999996],\n",
       " [1.4893617021276595, 2.285714285714286],\n",
       " [1.4222222222222223, 2.1333333333333333],\n",
       " [1.4081632653061225, 2.0666666666666669],\n",
       " [1.375, 1.7692307692307689],\n",
       " [1.4130434782608696, 1.8666666666666665],\n",
       " [1.2666666666666666, 2.1538461538461537],\n",
       " [1.3404255319148934, 2.0624999999999996],\n",
       " [1.4848484848484851, 2.3999999999999999],\n",
       " [1.4347826086956521, 2.2307692307692308],\n",
       " [1.3333333333333335, 1.9285714285714288],\n",
       " [1.4285714285714286, 2.0],\n",
       " [1.4047619047619049, 2.0],\n",
       " [1.5, 2.2000000000000002],\n",
       " [1.2978723404255319, 2.0714285714285716],\n",
       " [1.5555555555555554, 2.2307692307692308],\n",
       " [1.5227272727272727, 2.2142857142857144],\n",
       " [1.2444444444444445, 2.0],\n",
       " [1.4146341463414636, 2.7000000000000002],\n",
       " [1.3777777777777778, 1.4666666666666668],\n",
       " [1.4358974358974359, 2.2727272727272725],\n",
       " [1.2291666666666667, 1.7777777777777779],\n",
       " [1.5249999999999999, 2.1538461538461537],\n",
       " [1.2857142857142856, 1.6666666666666667],\n",
       " [1.2978723404255319, 2.3333333333333335],\n",
       " [1.488372093023256, 2.2307692307692308],\n",
       " [1.4999999999999998, 2.1428571428571428],\n",
       " [1.4166666666666667, 2.0],\n",
       " [1.3400000000000001, 1.7647058823529411],\n",
       " [1.3333333333333333, 1.9333333333333333],\n",
       " [1.6285714285714286, 2.6000000000000001],\n",
       " [1.4473684210526316, 2.1818181818181817],\n",
       " [1.4864864864864864, 2.3999999999999999],\n",
       " [1.4871794871794872, 2.2500000000000004],\n",
       " [1.1764705882352942, 1.6875],\n",
       " [1.2000000000000002, 2.0],\n",
       " [1.3333333333333333, 2.125],\n",
       " [1.425531914893617, 2.0666666666666669],\n",
       " [1.4318181818181817, 1.7692307692307689],\n",
       " [1.3658536585365855, 2.3076923076923075],\n",
       " [1.375, 1.9230769230769229],\n",
       " [1.25, 2.166666666666667],\n",
       " [1.3260869565217392, 2.1428571428571428],\n",
       " [1.45, 2.166666666666667],\n",
       " [1.5151515151515151, 2.2999999999999998],\n",
       " [1.3333333333333333, 2.0769230769230771],\n",
       " [1.3571428571428572, 2.5],\n",
       " [1.3571428571428572, 2.2307692307692308],\n",
       " [1.4418604651162792, 2.2307692307692308],\n",
       " [1.7, 2.2727272727272725],\n",
       " [1.3902439024390245, 2.1538461538461537],\n",
       " [1.05, 1.3199999999999998],\n",
       " [1.1372549019607843, 1.4210526315789476],\n",
       " [1.2033898305084745, 1.4285714285714286],\n",
       " [1.125, 1.6111111111111109],\n",
       " [1.1206896551724139, 1.3636363636363635],\n",
       " [1.1515151515151516, 1.4285714285714286],\n",
       " [1.088888888888889, 1.4705882352941178],\n",
       " [1.1587301587301588, 1.6111111111111109],\n",
       " [1.1551724137931034, 1.3888888888888888],\n",
       " [1.1803278688524592, 1.4399999999999999],\n",
       " [1.2745098039215688, 1.6000000000000001],\n",
       " [1.2075471698113209, 1.4210526315789476],\n",
       " [1.2363636363636363, 1.4285714285714286],\n",
       " [1.1400000000000001, 1.25],\n",
       " [1.1372549019607843, 1.1666666666666667],\n",
       " [1.2075471698113209, 1.3913043478260871],\n",
       " [1.1818181818181819, 1.6666666666666665],\n",
       " [1.1492537313432836, 1.7272727272727271],\n",
       " [1.1159420289855073, 1.1304347826086958],\n",
       " [1.2, 1.4666666666666668],\n",
       " [1.2105263157894737, 1.3913043478260871],\n",
       " [1.1428571428571428, 1.3999999999999999],\n",
       " [1.1492537313432836, 1.3999999999999999],\n",
       " [1.2857142857142856, 1.5],\n",
       " [1.1754385964912282, 1.5714285714285712],\n",
       " [1.2, 1.7777777777777779],\n",
       " [1.2916666666666667, 1.5555555555555554],\n",
       " [1.2448979591836733, 1.6666666666666665],\n",
       " [1.142857142857143, 1.3333333333333333],\n",
       " [1.2413793103448276, 1.875],\n",
       " [1.2131147540983609, 1.4736842105263157],\n",
       " [1.234375, 1.8999999999999999],\n",
       " [1.142857142857143, 1.2727272727272725],\n",
       " [1.2352941176470589, 1.8666666666666665],\n",
       " [1.0892857142857142, 1.8571428571428574],\n",
       " [1.2622950819672132, 1.3043478260869565],\n",
       " [1.125, 1.4166666666666667],\n",
       " [1.1636363636363638, 1.7222222222222223],\n",
       " [1.25, 1.6666666666666665],\n",
       " [1.2777777777777777, 1.4761904761904763],\n",
       " [1.1964285714285716, 1.2916666666666667],\n",
       " [1.3529411764705883, 1.347826086956522],\n",
       " [1.1372549019607843, 1.4210526315789476],\n",
       " [1.1525423728813557, 1.3913043478260871],\n",
       " [1.1754385964912282, 1.3199999999999998],\n",
       " [1.2884615384615385, 1.3043478260869565],\n",
       " [1.26, 1.3157894736842106],\n",
       " [1.25, 1.5],\n",
       " [1.1481481481481481, 1.4782608695652175],\n",
       " [1.1568627450980393, 1.6666666666666665]]"
      ]
     },
     "execution_count": 21,
     "metadata": {},
     "output_type": "execute_result"
    }
   ],
   "source": [
    "X_mod = [[x[0]/x[2], x[1]/x[3]] for x in X]\n",
    "X_mod"
   ]
  },
  {
   "cell_type": "code",
   "execution_count": 26,
   "metadata": {
    "collapsed": false
   },
   "outputs": [
    {
     "data": {
      "text/plain": [
       "[3.6428571428571428, 17.5]"
      ]
     },
     "execution_count": 26,
     "metadata": {},
     "output_type": "execute_result"
    }
   ],
   "source": []
  },
  {
   "cell_type": "code",
   "execution_count": 30,
   "metadata": {
    "collapsed": false
   },
   "outputs": [
    {
     "data": {
      "text/plain": [
       "<matplotlib.text.Text at 0x7f0cfa9df240>"
      ]
     },
     "execution_count": 30,
     "metadata": {},
     "output_type": "execute_result"
    },
    {
     "data": {
      "image/png": "[encoded data removed]",
      "text/plain": [
       "<matplotlib.figure.Figure at 0x7f0cfaabc518>"
      ]
     },
     "metadata": {},
     "output_type": "display_data"
    }
   ],
   "source": [
    "plt.figure(2, figsize=(8, 6))\n",
    "plt.clf()\n",
    "\n",
    "#plt.xlim(0, 2)\n",
    "#plt.ylim(0, 5)\n",
    "\n",
    "# Plot the training points\n",
    "plt.scatter([x[0] for x in X_mod], [x[1] for x in X_mod], c=Y, cmap=plt.cm.Paired)\n",
    "plt.xlabel('Sepal length/petal length')\n",
    "plt.ylabel('Sepal width/petal width')"
   ]
  },
  {
   "cell_type": "code",
   "execution_count": 28,
   "metadata": {
    "collapsed": false
   },
   "outputs": [
    {
     "data": {
      "text/plain": [
       "array(['setosa', 'versicolor', 'virginica'], \n",
       "      dtype='<U10')"
      ]
     },
     "execution_count": 28,
     "metadata": {},
     "output_type": "execute_result"
    }
   ],
   "source": [
    "iris.target_names"
   ]
  },
  {
   "cell_type": "code",
   "execution_count": 32,
   "metadata": {
    "collapsed": false
   },
   "outputs": [
    {
     "data": {
      "text/plain": [
       "array([1, 1, 1, 1, 1, 1, 1, 1, 1, 2, 1, 1, 2, 2, 1, 1, 1, 1, 1, 1, 1, 1, 1,\n",
       "       0, 1, 1, 1, 1, 1, 1, 1, 1, 2, 1, 2, 1, 1, 2, 1, 1, 1, 0, 1, 0, 1, 1,\n",
       "       1, 1, 1, 1, 0, 0, 0, 0, 0, 0, 0, 0, 0, 0, 0, 0, 0, 0, 0, 0, 0, 0, 0,\n",
       "       0, 0, 0, 0, 0, 0, 0, 0, 0, 0, 0, 0, 0, 0, 0, 0, 0, 0, 0, 0, 0, 0, 0,\n",
       "       0, 0, 0, 0, 0, 0, 0, 0, 0, 0, 0, 0, 0, 0, 0, 0, 0, 0, 0, 0, 0, 0, 0,\n",
       "       0, 0, 0, 0, 0, 0, 0, 0, 0, 0, 0, 0, 0, 0, 0, 0, 0, 0, 0, 0, 0, 0, 0,\n",
       "       0, 0, 0, 0, 0, 0, 0, 0, 0, 0, 0, 0], dtype=int32)"
      ]
     },
     "execution_count": 32,
     "metadata": {},
     "output_type": "execute_result"
    }
   ],
   "source": [
    "from sklearn.cluster import KMeans\n",
    "estimator = KMeans(n_clusters=3)\n",
    "estimator.fit(X_mod)\n",
    "estimator.labels_"
   ]
  },
  {
   "cell_type": "code",
   "execution_count": 33,
   "metadata": {
    "collapsed": false
   },
   "outputs": [
    {
     "data": {
      "text/plain": [
       "<matplotlib.text.Text at 0x7f0cf56bf160>"
      ]
     },
     "execution_count": 33,
     "metadata": {},
     "output_type": "execute_result"
    },
    {
     "data": {
      "image/png": "[encoded data removed]",
      "text/plain": [
       "<matplotlib.figure.Figure at 0x7f0cf56ae550>"
      ]
     },
     "metadata": {},
     "output_type": "display_data"
    }
   ],
   "source": [
    "plt.figure(2, figsize=(8, 6))\n",
    "plt.clf()\n",
    "\n",
    "#plt.xlim(0, 2)\n",
    "#plt.ylim(0, 5)\n",
    "\n",
    "# Plot the training points\n",
    "plt.scatter([x[0] for x in X_mod], [x[1] for x in X_mod], c=estimator.labels_, cmap=plt.cm.Paired)\n",
    "plt.xlabel('Sepal length/petal length')\n",
    "plt.ylabel('Sepal width/petal width')"
   ]
  },
  {
   "cell_type": "code",
   "execution_count": 48,
   "metadata": {
    "collapsed": false
   },
   "outputs": [
    {
     "data": {
      "text/plain": [
       "array([[-2.68420713,  0.32660731],\n",
       "       [-2.71539062, -0.16955685],\n",
       "       [-2.88981954, -0.13734561],\n",
       "       [-2.7464372 , -0.31112432],\n",
       "       [-2.72859298,  0.33392456],\n",
       "       [-2.27989736,  0.74778271],\n",
       "       [-2.82089068, -0.08210451],\n",
       "       [-2.62648199,  0.17040535],\n",
       "       [-2.88795857, -0.57079803],\n",
       "       [-2.67384469, -0.1066917 ],\n",
       "       [-2.50652679,  0.65193501],\n",
       "       [-2.61314272,  0.02152063],\n",
       "       [-2.78743398, -0.22774019],\n",
       "       [-3.22520045, -0.50327991],\n",
       "       [-2.64354322,  1.1861949 ],\n",
       "       [-2.38386932,  1.34475434],\n",
       "       [-2.6225262 ,  0.81808967],\n",
       "       [-2.64832273,  0.31913667],\n",
       "       [-2.19907796,  0.87924409],\n",
       "       [-2.58734619,  0.52047364],\n",
       "       [-2.3105317 ,  0.39786782],\n",
       "       [-2.54323491,  0.44003175],\n",
       "       [-3.21585769,  0.14161557],\n",
       "       [-2.30312854,  0.10552268],\n",
       "       [-2.35617109, -0.03120959],\n",
       "       [-2.50791723, -0.13905634],\n",
       "       [-2.469056  ,  0.13788731],\n",
       "       [-2.56239095,  0.37468456],\n",
       "       [-2.63982127,  0.31929007],\n",
       "       [-2.63284791, -0.19007583],\n",
       "       [-2.58846205, -0.19739308],\n",
       "       [-2.41007734,  0.41808001],\n",
       "       [-2.64763667,  0.81998263],\n",
       "       [-2.59715948,  1.10002193],\n",
       "       [-2.67384469, -0.1066917 ],\n",
       "       [-2.86699985,  0.0771931 ],\n",
       "       [-2.62522846,  0.60680001],\n",
       "       [-2.67384469, -0.1066917 ],\n",
       "       [-2.98184266, -0.48025005],\n",
       "       [-2.59032303,  0.23605934],\n",
       "       [-2.77013891,  0.27105942],\n",
       "       [-2.85221108, -0.93286537],\n",
       "       [-2.99829644, -0.33430757],\n",
       "       [-2.4055141 ,  0.19591726],\n",
       "       [-2.20883295,  0.44269603],\n",
       "       [-2.71566519, -0.24268148],\n",
       "       [-2.53757337,  0.51036755],\n",
       "       [-2.8403213 , -0.22057634],\n",
       "       [-2.54268576,  0.58628103],\n",
       "       [-2.70391231,  0.11501085],\n",
       "       [ 1.28479459,  0.68543919],\n",
       "       [ 0.93241075,  0.31919809],\n",
       "       [ 1.46406132,  0.50418983],\n",
       "       [ 0.18096721, -0.82560394],\n",
       "       [ 1.08713449,  0.07539039],\n",
       "       [ 0.64043675, -0.41732348],\n",
       "       [ 1.09522371,  0.28389121],\n",
       "       [-0.75146714, -1.00110751],\n",
       "       [ 1.04329778,  0.22895691],\n",
       "       [-0.01019007, -0.72057487],\n",
       "       [-0.5110862 , -1.26249195],\n",
       "       [ 0.51109806, -0.10228411],\n",
       "       [ 0.26233576, -0.5478933 ],\n",
       "       [ 0.98404455, -0.12436042],\n",
       "       [-0.174864  , -0.25181557],\n",
       "       [ 0.92757294,  0.46823621],\n",
       "       [ 0.65959279, -0.35197629],\n",
       "       [ 0.23454059, -0.33192183],\n",
       "       [ 0.94236171, -0.54182226],\n",
       "       [ 0.0432464 , -0.58148945],\n",
       "       [ 1.11624072, -0.08421401],\n",
       "       [ 0.35678657, -0.06682383],\n",
       "       [ 1.29646885, -0.32756152],\n",
       "       [ 0.92050265, -0.18239036],\n",
       "       [ 0.71400821,  0.15037915],\n",
       "       [ 0.89964086,  0.32961098],\n",
       "       [ 1.33104142,  0.24466952],\n",
       "       [ 1.55739627,  0.26739258],\n",
       "       [ 0.81245555, -0.16233157],\n",
       "       [-0.30733476, -0.36508661],\n",
       "       [-0.07034289, -0.70253793],\n",
       "       [-0.19188449, -0.67749054],\n",
       "       [ 0.13499495, -0.31170964],\n",
       "       [ 1.37873698, -0.42120514],\n",
       "       [ 0.58727485, -0.48328427],\n",
       "       [ 0.8072055 ,  0.19505396],\n",
       "       [ 1.22042897,  0.40803534],\n",
       "       [ 0.81286779, -0.370679  ],\n",
       "       [ 0.24519516, -0.26672804],\n",
       "       [ 0.16451343, -0.67966147],\n",
       "       [ 0.46303099, -0.66952655],\n",
       "       [ 0.89016045, -0.03381244],\n",
       "       [ 0.22887905, -0.40225762],\n",
       "       [-0.70708128, -1.00842476],\n",
       "       [ 0.35553304, -0.50321849],\n",
       "       [ 0.33112695, -0.21118014],\n",
       "       [ 0.37523823, -0.29162202],\n",
       "       [ 0.64169028,  0.01907118],\n",
       "       [-0.90846333, -0.75156873],\n",
       "       [ 0.29780791, -0.34701652],\n",
       "       [ 2.53172698, -0.01184224],\n",
       "       [ 1.41407223, -0.57492506],\n",
       "       [ 2.61648461,  0.34193529],\n",
       "       [ 1.97081495, -0.18112569],\n",
       "       [ 2.34975798, -0.04188255],\n",
       "       [ 3.39687992,  0.54716805],\n",
       "       [ 0.51938325, -1.19135169],\n",
       "       [ 2.9320051 ,  0.35237701],\n",
       "       [ 2.31967279, -0.24554817],\n",
       "       [ 2.91813423,  0.78038063],\n",
       "       [ 1.66193495,  0.2420384 ],\n",
       "       [ 1.80234045, -0.21615461],\n",
       "       [ 2.16537886,  0.21528028],\n",
       "       [ 1.34459422, -0.77641543],\n",
       "       [ 1.5852673 , -0.53930705],\n",
       "       [ 1.90474358,  0.11881899],\n",
       "       [ 1.94924878,  0.04073026],\n",
       "       [ 3.48876538,  1.17154454],\n",
       "       [ 3.79468686,  0.25326557],\n",
       "       [ 1.29832982, -0.76101394],\n",
       "       [ 2.42816726,  0.37678197],\n",
       "       [ 1.19809737, -0.60557896],\n",
       "       [ 3.49926548,  0.45677347],\n",
       "       [ 1.38766825, -0.20403099],\n",
       "       [ 2.27585365,  0.33338653],\n",
       "       [ 2.61419383,  0.55836695],\n",
       "       [ 1.25762518, -0.179137  ],\n",
       "       [ 1.29066965, -0.11642525],\n",
       "       [ 2.12285398, -0.21085488],\n",
       "       [ 2.3875644 ,  0.46251925],\n",
       "       [ 2.84096093,  0.37274259],\n",
       "       [ 3.2323429 ,  1.37052404],\n",
       "       [ 2.15873837, -0.21832553],\n",
       "       [ 1.4431026 , -0.14380129],\n",
       "       [ 1.77964011, -0.50146479],\n",
       "       [ 3.07652162,  0.68576444],\n",
       "       [ 2.14498686,  0.13890661],\n",
       "       [ 1.90486293,  0.04804751],\n",
       "       [ 1.16885347, -0.1645025 ],\n",
       "       [ 2.10765373,  0.37148225],\n",
       "       [ 2.31430339,  0.18260885],\n",
       "       [ 1.92245088,  0.40927118],\n",
       "       [ 1.41407223, -0.57492506],\n",
       "       [ 2.56332271,  0.2759745 ],\n",
       "       [ 2.41939122,  0.30350394],\n",
       "       [ 1.94401705,  0.18741522],\n",
       "       [ 1.52566363, -0.37502085],\n",
       "       [ 1.76404594,  0.07851919],\n",
       "       [ 1.90162908,  0.11587675],\n",
       "       [ 1.38966613, -0.28288671]])"
      ]
     },
     "execution_count": 48,
     "metadata": {},
     "output_type": "execute_result"
    }
   ],
   "source": [
    "from sklearn.decomposition import PCA\n",
    "pca = PCA(n_components=2)\n",
    "pca.fit(X)\n",
    "X_pca = pca.transform(X)\n",
    "X_pca"
   ]
  },
  {
   "cell_type": "code",
   "execution_count": 53,
   "metadata": {
    "collapsed": false
   },
   "outputs": [
    {
     "data": {
      "text/plain": [
       "<matplotlib.text.Text at 0x7f0cf558d978>"
      ]
     },
     "execution_count": 53,
     "metadata": {},
     "output_type": "execute_result"
    },
    {
     "data": {
      "image/png": "[encoded data removed]",
      "text/plain": [
       "<matplotlib.figure.Figure at 0x7f0cf54ddac8>"
      ]
     },
     "metadata": {},
     "output_type": "display_data"
    }
   ],
   "source": [
    "plt.figure(2, figsize=(8, 6))\n",
    "plt.clf()\n",
    "\n",
    "#plt.xlim(0, 2)\n",
    "#plt.ylim(0, 5)\n",
    "\n",
    "# Plot the training points\n",
    "plt.scatter(X_pca[:, 0], X_pca[:, 1], cmap=plt.cm.Paired)\n",
    "plt.xlabel('component 1')\n",
    "plt.ylabel('component 2')"
   ]
  },
  {
   "cell_type": "code",
   "execution_count": 51,
   "metadata": {
    "collapsed": false
   },
   "outputs": [
    {
     "data": {
      "text/plain": [
       "array([1, 1, 1, 1, 1, 1, 1, 1, 1, 1, 1, 1, 1, 1, 1, 1, 1, 1, 1, 1, 1, 1, 1,\n",
       "       1, 1, 1, 1, 1, 1, 1, 1, 1, 1, 1, 1, 1, 1, 1, 1, 1, 1, 1, 1, 1, 1, 1,\n",
       "       1, 1, 1, 1, 2, 0, 2, 0, 0, 0, 0, 0, 0, 0, 0, 0, 0, 0, 0, 0, 0, 0, 0,\n",
       "       0, 0, 0, 0, 0, 0, 0, 0, 2, 0, 0, 0, 0, 0, 0, 0, 0, 0, 0, 0, 0, 0, 0,\n",
       "       0, 0, 0, 0, 0, 0, 0, 0, 2, 0, 2, 2, 2, 2, 0, 2, 2, 2, 2, 2, 2, 0, 0,\n",
       "       2, 2, 2, 2, 0, 2, 0, 2, 0, 2, 2, 0, 0, 2, 2, 2, 2, 2, 0, 2, 2, 2, 2,\n",
       "       0, 2, 2, 2, 0, 2, 2, 2, 0, 2, 2, 0], dtype=int32)"
      ]
     },
     "execution_count": 51,
     "metadata": {},
     "output_type": "execute_result"
    }
   ],
   "source": [
    "from sklearn.cluster import KMeans\n",
    "estimator = KMeans(n_clusters=3)\n",
    "estimator.fit(X_pca)\n",
    "estimator.labels_"
   ]
  },
  {
   "cell_type": "code",
   "execution_count": 64,
   "metadata": {
    "collapsed": false
   },
   "outputs": [
    {
     "data": {
      "text/plain": [
       "<matplotlib.collections.PathCollection at 0x7f0cf4f26dd8>"
      ]
     },
     "execution_count": 64,
     "metadata": {},
     "output_type": "execute_result"
    },
    {
     "data": {
      "image/png": "[encoded data removed]",
      "text/plain": [
       "<matplotlib.figure.Figure at 0x7f0cf5012780>"
      ]
     },
     "metadata": {},
     "output_type": "display_data"
    }
   ],
   "source": [
    "plt.figure(2, figsize=(8, 6))\n",
    "plt.clf()\n",
    "\n",
    "#plt.xlim(0, 2)\n",
    "#plt.ylim(0, 5)\n",
    "\n",
    "# Plot the training points\n",
    "plt.scatter(X_pca[:, 0], X_pca[:, 1], c=estimator.labels_, cmap=plt.cm.Paired)\n",
    "\n",
    "plt.scatter(X_pca[:, 0], X_pca[:, 1], c=Y, cmap=plt.cm.Paired, s=6)\n",
    "plt.xlabel('component 1')\n",
    "plt.ylabel('component 2')\n",
    "cc = estimator.cluster_centers_\n",
    "cc\n",
    "plt.scatter(cc[:, 0], cc[:, 1], cmap=plt.cm.autumn, s=100)"
   ]
  }
 ],
 "metadata": {
  "kernelspec": {
   "display_name": "Python 3",
   "language": "python",
   "name": "python3"
  },
  "language_info": {
   "codemirror_mode": {
    "name": "ipython",
    "version": 3
   },
   "file_extension": ".py",
   "mimetype": "text/x-python",
   "name": "python",
   "nbconvert_exporter": "python",
   "pygments_lexer": "ipython3",
   "version": "3.5.2"
  }
 },
 "nbformat": 4,
 "nbformat_minor": 2
}
